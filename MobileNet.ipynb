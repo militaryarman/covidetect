{
 "cells": [
  {
   "cell_type": "code",
   "execution_count": 3,
   "metadata": {},
   "outputs": [
    {
     "name": "stdout",
     "output_type": "stream",
     "text": [
      "WARNING:tensorflow:From C:\\Users\\usama\\anaconda3\\lib\\site-packages\\tensorflow\\python\\ops\\init_ops.py:1251: calling VarianceScaling.__init__ (from tensorflow.python.ops.init_ops) with dtype is deprecated and will be removed in a future version.\n",
      "Instructions for updating:\n",
      "Call initializer instance with the dtype argument instead of passing it to the constructor\n"
     ]
    },
    {
     "name": "stderr",
     "output_type": "stream",
     "text": [
      "C:\\Users\\usama\\anaconda3\\lib\\site-packages\\keras_applications\\mobilenet.py:207: UserWarning: `input_shape` is undefined or non-square, or `rows` is not in [128, 160, 192, 224]. Weights for input shape (224, 224) will be loaded as the default.\n",
      "  warnings.warn('`input_shape` is undefined or non-square, '\n"
     ]
    },
    {
     "name": "stdout",
     "output_type": "stream",
     "text": [
      "Downloading data from https://github.com/fchollet/deep-learning-models/releases/download/v0.6/mobilenet_1_0_224_tf_no_top.h5\n",
      "17227776/17225924 [==============================] - 4s 0us/step\n",
      "Model: \"mobilenet_1.00_224\"\n",
      "_________________________________________________________________\n",
      "Layer (type)                 Output Shape              Param #   \n",
      "=================================================================\n",
      "input_1 (InputLayer)         [(None, 150, 150, 3)]     0         \n",
      "_________________________________________________________________\n",
      "conv1_pad (ZeroPadding2D)    (None, 151, 151, 3)       0         \n",
      "_________________________________________________________________\n",
      "conv1 (Conv2D)               (None, 75, 75, 32)        864       \n",
      "_________________________________________________________________\n",
      "conv1_bn (BatchNormalization (None, 75, 75, 32)        128       \n",
      "_________________________________________________________________\n",
      "conv1_relu (ReLU)            (None, 75, 75, 32)        0         \n",
      "_________________________________________________________________\n",
      "conv_dw_1 (DepthwiseConv2D)  (None, 75, 75, 32)        288       \n",
      "_________________________________________________________________\n",
      "conv_dw_1_bn (BatchNormaliza (None, 75, 75, 32)        128       \n",
      "_________________________________________________________________\n",
      "conv_dw_1_relu (ReLU)        (None, 75, 75, 32)        0         \n",
      "_________________________________________________________________\n",
      "conv_pw_1 (Conv2D)           (None, 75, 75, 64)        2048      \n",
      "_________________________________________________________________\n",
      "conv_pw_1_bn (BatchNormaliza (None, 75, 75, 64)        256       \n",
      "_________________________________________________________________\n",
      "conv_pw_1_relu (ReLU)        (None, 75, 75, 64)        0         \n",
      "_________________________________________________________________\n",
      "conv_pad_2 (ZeroPadding2D)   (None, 76, 76, 64)        0         \n",
      "_________________________________________________________________\n",
      "conv_dw_2 (DepthwiseConv2D)  (None, 37, 37, 64)        576       \n",
      "_________________________________________________________________\n",
      "conv_dw_2_bn (BatchNormaliza (None, 37, 37, 64)        256       \n",
      "_________________________________________________________________\n",
      "conv_dw_2_relu (ReLU)        (None, 37, 37, 64)        0         \n",
      "_________________________________________________________________\n",
      "conv_pw_2 (Conv2D)           (None, 37, 37, 128)       8192      \n",
      "_________________________________________________________________\n",
      "conv_pw_2_bn (BatchNormaliza (None, 37, 37, 128)       512       \n",
      "_________________________________________________________________\n",
      "conv_pw_2_relu (ReLU)        (None, 37, 37, 128)       0         \n",
      "_________________________________________________________________\n",
      "conv_dw_3 (DepthwiseConv2D)  (None, 37, 37, 128)       1152      \n",
      "_________________________________________________________________\n",
      "conv_dw_3_bn (BatchNormaliza (None, 37, 37, 128)       512       \n",
      "_________________________________________________________________\n",
      "conv_dw_3_relu (ReLU)        (None, 37, 37, 128)       0         \n",
      "_________________________________________________________________\n",
      "conv_pw_3 (Conv2D)           (None, 37, 37, 128)       16384     \n",
      "_________________________________________________________________\n",
      "conv_pw_3_bn (BatchNormaliza (None, 37, 37, 128)       512       \n",
      "_________________________________________________________________\n",
      "conv_pw_3_relu (ReLU)        (None, 37, 37, 128)       0         \n",
      "_________________________________________________________________\n",
      "conv_pad_4 (ZeroPadding2D)   (None, 38, 38, 128)       0         \n",
      "_________________________________________________________________\n",
      "conv_dw_4 (DepthwiseConv2D)  (None, 18, 18, 128)       1152      \n",
      "_________________________________________________________________\n",
      "conv_dw_4_bn (BatchNormaliza (None, 18, 18, 128)       512       \n",
      "_________________________________________________________________\n",
      "conv_dw_4_relu (ReLU)        (None, 18, 18, 128)       0         \n",
      "_________________________________________________________________\n",
      "conv_pw_4 (Conv2D)           (None, 18, 18, 256)       32768     \n",
      "_________________________________________________________________\n",
      "conv_pw_4_bn (BatchNormaliza (None, 18, 18, 256)       1024      \n",
      "_________________________________________________________________\n",
      "conv_pw_4_relu (ReLU)        (None, 18, 18, 256)       0         \n",
      "_________________________________________________________________\n",
      "conv_dw_5 (DepthwiseConv2D)  (None, 18, 18, 256)       2304      \n",
      "_________________________________________________________________\n",
      "conv_dw_5_bn (BatchNormaliza (None, 18, 18, 256)       1024      \n",
      "_________________________________________________________________\n",
      "conv_dw_5_relu (ReLU)        (None, 18, 18, 256)       0         \n",
      "_________________________________________________________________\n",
      "conv_pw_5 (Conv2D)           (None, 18, 18, 256)       65536     \n",
      "_________________________________________________________________\n",
      "conv_pw_5_bn (BatchNormaliza (None, 18, 18, 256)       1024      \n",
      "_________________________________________________________________\n",
      "conv_pw_5_relu (ReLU)        (None, 18, 18, 256)       0         \n",
      "_________________________________________________________________\n",
      "conv_pad_6 (ZeroPadding2D)   (None, 19, 19, 256)       0         \n",
      "_________________________________________________________________\n",
      "conv_dw_6 (DepthwiseConv2D)  (None, 9, 9, 256)         2304      \n",
      "_________________________________________________________________\n",
      "conv_dw_6_bn (BatchNormaliza (None, 9, 9, 256)         1024      \n",
      "_________________________________________________________________\n",
      "conv_dw_6_relu (ReLU)        (None, 9, 9, 256)         0         \n",
      "_________________________________________________________________\n",
      "conv_pw_6 (Conv2D)           (None, 9, 9, 512)         131072    \n",
      "_________________________________________________________________\n",
      "conv_pw_6_bn (BatchNormaliza (None, 9, 9, 512)         2048      \n",
      "_________________________________________________________________\n",
      "conv_pw_6_relu (ReLU)        (None, 9, 9, 512)         0         \n",
      "_________________________________________________________________\n",
      "conv_dw_7 (DepthwiseConv2D)  (None, 9, 9, 512)         4608      \n",
      "_________________________________________________________________\n",
      "conv_dw_7_bn (BatchNormaliza (None, 9, 9, 512)         2048      \n",
      "_________________________________________________________________\n",
      "conv_dw_7_relu (ReLU)        (None, 9, 9, 512)         0         \n",
      "_________________________________________________________________\n",
      "conv_pw_7 (Conv2D)           (None, 9, 9, 512)         262144    \n",
      "_________________________________________________________________\n",
      "conv_pw_7_bn (BatchNormaliza (None, 9, 9, 512)         2048      \n",
      "_________________________________________________________________\n",
      "conv_pw_7_relu (ReLU)        (None, 9, 9, 512)         0         \n",
      "_________________________________________________________________\n",
      "conv_dw_8 (DepthwiseConv2D)  (None, 9, 9, 512)         4608      \n",
      "_________________________________________________________________\n",
      "conv_dw_8_bn (BatchNormaliza (None, 9, 9, 512)         2048      \n",
      "_________________________________________________________________\n",
      "conv_dw_8_relu (ReLU)        (None, 9, 9, 512)         0         \n",
      "_________________________________________________________________\n",
      "conv_pw_8 (Conv2D)           (None, 9, 9, 512)         262144    \n",
      "_________________________________________________________________\n",
      "conv_pw_8_bn (BatchNormaliza (None, 9, 9, 512)         2048      \n",
      "_________________________________________________________________\n",
      "conv_pw_8_relu (ReLU)        (None, 9, 9, 512)         0         \n",
      "_________________________________________________________________\n",
      "conv_dw_9 (DepthwiseConv2D)  (None, 9, 9, 512)         4608      \n",
      "_________________________________________________________________\n",
      "conv_dw_9_bn (BatchNormaliza (None, 9, 9, 512)         2048      \n",
      "_________________________________________________________________\n",
      "conv_dw_9_relu (ReLU)        (None, 9, 9, 512)         0         \n",
      "_________________________________________________________________\n",
      "conv_pw_9 (Conv2D)           (None, 9, 9, 512)         262144    \n",
      "_________________________________________________________________\n",
      "conv_pw_9_bn (BatchNormaliza (None, 9, 9, 512)         2048      \n",
      "_________________________________________________________________\n",
      "conv_pw_9_relu (ReLU)        (None, 9, 9, 512)         0         \n",
      "_________________________________________________________________\n",
      "conv_dw_10 (DepthwiseConv2D) (None, 9, 9, 512)         4608      \n",
      "_________________________________________________________________\n",
      "conv_dw_10_bn (BatchNormaliz (None, 9, 9, 512)         2048      \n",
      "_________________________________________________________________\n",
      "conv_dw_10_relu (ReLU)       (None, 9, 9, 512)         0         \n",
      "_________________________________________________________________\n",
      "conv_pw_10 (Conv2D)          (None, 9, 9, 512)         262144    \n",
      "_________________________________________________________________\n",
      "conv_pw_10_bn (BatchNormaliz (None, 9, 9, 512)         2048      \n",
      "_________________________________________________________________\n",
      "conv_pw_10_relu (ReLU)       (None, 9, 9, 512)         0         \n",
      "_________________________________________________________________\n",
      "conv_dw_11 (DepthwiseConv2D) (None, 9, 9, 512)         4608      \n",
      "_________________________________________________________________\n",
      "conv_dw_11_bn (BatchNormaliz (None, 9, 9, 512)         2048      \n",
      "_________________________________________________________________\n",
      "conv_dw_11_relu (ReLU)       (None, 9, 9, 512)         0         \n",
      "_________________________________________________________________\n",
      "conv_pw_11 (Conv2D)          (None, 9, 9, 512)         262144    \n",
      "_________________________________________________________________\n",
      "conv_pw_11_bn (BatchNormaliz (None, 9, 9, 512)         2048      \n",
      "_________________________________________________________________\n",
      "conv_pw_11_relu (ReLU)       (None, 9, 9, 512)         0         \n",
      "_________________________________________________________________\n",
      "conv_pad_12 (ZeroPadding2D)  (None, 10, 10, 512)       0         \n",
      "_________________________________________________________________\n",
      "conv_dw_12 (DepthwiseConv2D) (None, 4, 4, 512)         4608      \n",
      "_________________________________________________________________\n",
      "conv_dw_12_bn (BatchNormaliz (None, 4, 4, 512)         2048      \n",
      "_________________________________________________________________\n",
      "conv_dw_12_relu (ReLU)       (None, 4, 4, 512)         0         \n",
      "_________________________________________________________________\n",
      "conv_pw_12 (Conv2D)          (None, 4, 4, 1024)        524288    \n",
      "_________________________________________________________________\n",
      "conv_pw_12_bn (BatchNormaliz (None, 4, 4, 1024)        4096      \n",
      "_________________________________________________________________\n",
      "conv_pw_12_relu (ReLU)       (None, 4, 4, 1024)        0         \n",
      "_________________________________________________________________\n",
      "conv_dw_13 (DepthwiseConv2D) (None, 4, 4, 1024)        9216      \n",
      "_________________________________________________________________\n",
      "conv_dw_13_bn (BatchNormaliz (None, 4, 4, 1024)        4096      \n",
      "_________________________________________________________________\n",
      "conv_dw_13_relu (ReLU)       (None, 4, 4, 1024)        0         \n",
      "_________________________________________________________________\n",
      "conv_pw_13 (Conv2D)          (None, 4, 4, 1024)        1048576   \n",
      "_________________________________________________________________\n",
      "conv_pw_13_bn (BatchNormaliz (None, 4, 4, 1024)        4096      \n",
      "_________________________________________________________________\n",
      "conv_pw_13_relu (ReLU)       (None, 4, 4, 1024)        0         \n",
      "=================================================================\n",
      "Total params: 3,228,864\n",
      "Trainable params: 0\n",
      "Non-trainable params: 3,228,864\n",
      "_________________________________________________________________\n",
      "None\n",
      "WARNING:tensorflow:From C:\\Users\\usama\\anaconda3\\lib\\site-packages\\tensorflow\\python\\ops\\nn_impl.py:180: add_dispatch_support.<locals>.wrapper (from tensorflow.python.ops.array_ops) is deprecated and will be removed in a future version.\n",
      "Instructions for updating:\n",
      "Use tf.where in 2.0, which has the same broadcast rule as np.where\n"
     ]
    }
   ],
   "source": [
    "from tensorflow import keras\n",
    "\n",
    "import pandas as pd\n",
    "import matplotlib.pyplot as plt\n",
    "\n",
    "from keras.models import Sequential\n",
    "from keras.layers import Conv2D, Flatten, Dense, MaxPool2D,MaxPooling2D, Activation, Dropout, BatchNormalization, Input\n",
    "\n",
    "img_width=150\n",
    "img_height=150\n",
    "batch_size=20\n",
    "model=keras.applications.MobileNet(weights=\"imagenet\",include_top=False,\n",
    "input_shape=(img_height,\timg_width,\t3))\n",
    "#\tFreeze\tall\tlower\tlayers\t\t\n",
    "for\tlayer\tin\tmodel.layers:\n",
    "    layer.trainable\t=\tFalse\n",
    "    #\tadd\tcustom\tlayers\t\n",
    "x\t=\tmodel.output\n",
    "x\t=\tkeras.layers.Flatten()(x)\n",
    "x\t=\tkeras.layers.Dense(64,\tactivation=\"relu\")(x)\n",
    "x\t=\tkeras.layers.Dropout(0.2)(x)\n",
    "\n",
    "output\t=\tkeras.layers.Dense(1,\tactivation=\"sigmoid\")(x)\n",
    "print(model.summary())\t\n",
    "model_final\t=\tkeras.models.Model(inputs=model.input,\toutputs=output)\t\n",
    "model_final.compile(loss='binary_crossentropy',\n",
    "optimizer='rmsprop',\n",
    "metrics=['accuracy'])"
   ]
  },
  {
   "cell_type": "code",
   "execution_count": 6,
   "metadata": {},
   "outputs": [
    {
     "name": "stdout",
     "output_type": "stream",
     "text": [
      "Found 546 images belonging to 2 classes.\n",
      "Found 60 images belonging to 2 classes.\n",
      "Found 140 images belonging to 2 classes.\n"
     ]
    }
   ],
   "source": [
    "train_datagen\t=\tkeras.preprocessing.image.ImageDataGenerator(rescale=1./255,\tshear_range=0.2,\t\t\n",
    "zoom_range=0.2,\thorizontal_flip=True)\t\n",
    "#\tno\taugmentation\tfor\ttesting:\trescaling\tonly\t\n",
    "valid_datagen\t=\tkeras.preprocessing.image.ImageDataGenerator(rescale=1./255,\thorizontal_flip=False)\n",
    "test_datagen\t=\tkeras.preprocessing.image.ImageDataGenerator(rescale=1./255,\thorizontal_flip=False)\t\n",
    "\t\n",
    "#\ta\tgenerator\tthat\treads\timages\tfound\tin\t'data/train',\tand\tgenerates\tbatches\tof\taugmented\timage\tdata\t\n",
    "train_generator\t=\ttrain_datagen.flow_from_directory(\t\n",
    "\t\t\t\t\t\t\t\t'./data/train',\t\t#\tdirectory\twith\ttraining\tdata\t\n",
    "target_size=(img_height,\timg_width),\t\t#\tall\timages\twill\tbe\tresized\tto\t150x150\t\n",
    "color_mode=\"rgb\",\t\n",
    "batch_size=batch_size,\t\n",
    "class_mode='binary')\t\t#\tonly\ttwo\tclasses,\tso\twe\tare\tnot\tusing\tcategorical\tlabels\t\n",
    "#\tthis\tis\ta\tsimilar\tgenerator,\tfor\tvalidation\tdata\t\n",
    "valid_generator\t=\tvalid_datagen.flow_from_directory(\t\n",
    "\t\t\t\t\t\t\t\t'./data/valid',\t\t#\tdirectory\twith\ttraining\tdata\t\n",
    "target_size=(img_height,\timg_width),\t\t#\tall\timages\twill\tbe\tresized\tto\t150x150\t\n",
    "color_mode=\"rgb\",\t\n",
    "batch_size=batch_size,\t\n",
    "class_mode='binary')\t\t#\tonly\ttwo\tclasses,\tso\twe\tare\tnot\tusing\tcategorical\tlabels\t\n",
    "\n",
    "\n",
    "test_generator\t=\ttest_datagen.flow_from_directory(\t\n",
    "\t\t\t\t\t\t'./data/test',\t\t#\tdirectory\twith\ttraining\tdata\t\n",
    "target_size=(img_height,\timg_width),\t\t#\tall\timages\twill\tbe\tresized\tto\t150x150\t\n",
    "color_mode=\"rgb\",\t\n",
    "batch_size=batch_size,\n",
    "shuffle=False,\t\n",
    "class_mode='binary')\t\t#\tonly\ttwo\tclasses,\tso\twe\tare\tnot\tusing\tcategorical\tlabels\t"
   ]
  },
  {
   "cell_type": "code",
   "execution_count": 7,
   "metadata": {},
   "outputs": [
    {
     "name": "stdout",
     "output_type": "stream",
     "text": [
      "Epoch 1/10\n",
      "100/100 [==============================] - 78s 778ms/step - loss: 1.2604 - acc: 0.7176 - val_loss: 2.2040 - val_acc: 0.4990\n",
      "Epoch 2/10\n",
      "100/100 [==============================] - 71s 710ms/step - loss: 0.5332 - acc: 0.7957 - val_loss: 0.6733 - val_acc: 0.6500\n",
      "Epoch 3/10\n",
      "100/100 [==============================] - 71s 711ms/step - loss: 0.3652 - acc: 0.8729 - val_loss: 1.0030 - val_acc: 0.6010\n",
      "Epoch 4/10\n",
      "100/100 [==============================] - 70s 700ms/step - loss: 0.3279 - acc: 0.8795 - val_loss: 1.8814 - val_acc: 0.5995\n",
      "Epoch 5/10\n",
      "100/100 [==============================] - 71s 708ms/step - loss: 0.2942 - acc: 0.9069 - val_loss: 5.1355 - val_acc: 0.5845\n",
      "Epoch 6/10\n",
      "100/100 [==============================] - 71s 708ms/step - loss: 0.2386 - acc: 0.9223 - val_loss: 2.6164 - val_acc: 0.6500\n",
      "Epoch 7/10\n",
      "100/100 [==============================] - 70s 700ms/step - loss: 0.2809 - acc: 0.9219 - val_loss: 1.8072 - val_acc: 0.5995\n",
      "Epoch 8/10\n",
      "100/100 [==============================] - 70s 700ms/step - loss: 0.1936 - acc: 0.9408 - val_loss: 2.8431 - val_acc: 0.6325\n",
      "Epoch 9/10\n",
      "100/100 [==============================] - 74s 739ms/step - loss: 0.1851 - acc: 0.9443 - val_loss: 1.9466 - val_acc: 0.5670\n",
      "Epoch 10/10\n",
      "100/100 [==============================] - 71s 709ms/step - loss: 0.1522 - acc: 0.9475 - val_loss: 1.8825 - val_acc: 0.6160\n"
     ]
    }
   ],
   "source": [
    "history\t=model_final.fit_generator(\t\n",
    "train_generator,\t\n",
    "steps_per_epoch=2000\t//\tbatch_size,\t\n",
    "\t\t\t\t\t\t\t\tepochs=10,\t\n",
    "validation_data=valid_generator,\t\n",
    "validation_steps=2000\t//\tbatch_size\n",
    ")\t\n",
    "\n",
    "test_loss, test_acc=model_final.evaluate_generator(test_generator)"
   ]
  },
  {
   "cell_type": "code",
   "execution_count": 8,
   "metadata": {},
   "outputs": [
    {
     "name": "stdout",
     "output_type": "stream",
     "text": [
      "[INFO] accuracy: 59.29%\n",
      "[INFO] Loss:  3.2248578582491194\n"
     ]
    }
   ],
   "source": [
    "print(\"[INFO] accuracy: {:.2f}%\".format(test_acc * 100)) \n",
    "print(\"[INFO] Loss: \",test_loss)"
   ]
  },
  {
   "cell_type": "code",
   "execution_count": 9,
   "metadata": {},
   "outputs": [],
   "source": [
    "import numpy as np\n",
    "from sklearn.metrics import classification_report, confusion_matrix, accuracy_score\n",
    "predictions = model_final.predict_generator(test_generator)\n",
    "y_pred = np.rint(predictions)\n",
    "y_true = test_generator.classes"
   ]
  },
  {
   "cell_type": "code",
   "execution_count": 10,
   "metadata": {},
   "outputs": [
    {
     "name": "stdout",
     "output_type": "stream",
     "text": [
      "Classification Report\n",
      "              precision    recall  f1-score   support\n",
      "\n",
      "    COVID_NO       0.60      0.54      0.57        70\n",
      "   COVID_YES       0.58      0.64      0.61        70\n",
      "\n",
      "    accuracy                           0.59       140\n",
      "   macro avg       0.59      0.59      0.59       140\n",
      "weighted avg       0.59      0.59      0.59       140\n",
      "\n",
      "0.5928571428571429\n"
     ]
    }
   ],
   "source": [
    "confmat=confusion_matrix(y_true, y_pred)\n",
    "print('Classification Report')\n",
    "y_test=y_true\n",
    "target_names=['COVID_NO','COVID_YES']\n",
    "print(classification_report(y_test, y_pred, target_names=target_names))\n",
    "\n",
    "ac= accuracy_score(y_test,y_pred)\n",
    "print(ac)"
   ]
  },
  {
   "cell_type": "code",
   "execution_count": 11,
   "metadata": {},
   "outputs": [
    {
     "data": {
      "image/png": "[encoded data removed]",
      "text/plain": [
       "<Figure size 720x504 with 2 Axes>"
      ]
     },
     "metadata": {
      "needs_background": "light"
     },
     "output_type": "display_data"
    }
   ],
   "source": [
    "import seaborn as sn\n",
    "cm=confmat\n",
    "y_test=y_true\n",
    "df_cm = pd.DataFrame(cm, columns=np.unique(y_test), index = np.unique(y_test))\n",
    "df_cm.index.name = 'Actual'\n",
    "df_cm.columns.name = 'Predicted'\n",
    "plt.figure(figsize = (10,7))\n",
    "\n",
    "sn.set(font_scale=1.4)#for label size\n",
    "sn.heatmap(df_cm, cmap=\"Blues\", annot=True,fmt='g',annot_kws={\"size\": 16})\n",
    "plt.savefig('mobileNET_cf')#"
   ]
  },
  {
   "cell_type": "code",
   "execution_count": 12,
   "metadata": {},
   "outputs": [],
   "source": [
    "model_final.save('mobilenet-trained-weights.h5')"
   ]
  },
  {
   "cell_type": "code",
   "execution_count": null,
   "metadata": {},
   "outputs": [],
   "source": []
  }
 ],
 "metadata": {
  "kernelspec": {
   "display_name": "Python 3",
   "language": "python",
   "name": "python3"
  },
  "language_info": {
   "codemirror_mode": {
    "name": "ipython",
    "version": 3
   },
   "file_extension": ".py",
   "mimetype": "text/x-python",
   "name": "python",
   "nbconvert_exporter": "python",
   "pygments_lexer": "ipython3",
   "version": "3.7.6"
  }
 },
 "nbformat": 4,
 "nbformat_minor": 4
}
